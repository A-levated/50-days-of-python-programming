{
 "cells": [
  {
   "cell_type": "code",
   "execution_count": 1,
   "id": "a384e04f-1f42-40bb-83f2-64e077ae594c",
   "metadata": {},
   "outputs": [],
   "source": [
    "import pandas as pd\n",
    "import numpy as np"
   ]
  },
  {
   "cell_type": "code",
   "execution_count": 2,
   "id": "df7e7674-f9db-423a-9a35-1cda44d60ad8",
   "metadata": {},
   "outputs": [
    {
     "data": {
      "text/plain": [
       "a    0.25\n",
       "b    0.50\n",
       "c    0.56\n",
       "d    0.75\n",
       "dtype: float64"
      ]
     },
     "execution_count": 2,
     "metadata": {},
     "output_type": "execute_result"
    }
   ],
   "source": [
    "data = pd.Series([0.25, 0.5, 0.56, 0.75],\n",
    "               index=['a', 'b', 'c', 'd'])\n",
    "data"
   ]
  },
  {
   "cell_type": "code",
   "execution_count": 3,
   "id": "0e83da5a-ca1f-4b59-9498-33f2716d13fb",
   "metadata": {},
   "outputs": [
    {
     "data": {
      "text/plain": [
       "0.5"
      ]
     },
     "execution_count": 3,
     "metadata": {},
     "output_type": "execute_result"
    }
   ],
   "source": [
    "data['b']"
   ]
  },
  {
   "cell_type": "code",
   "execution_count": 4,
   "id": "37061a03-19cb-489c-a4c2-12deb498fb29",
   "metadata": {},
   "outputs": [
    {
     "data": {
      "text/plain": [
       "[('a', 0.25), ('b', 0.5), ('c', 0.56), ('d', 0.75)]"
      ]
     },
     "execution_count": 4,
     "metadata": {},
     "output_type": "execute_result"
    }
   ],
   "source": [
    "list(data.items())"
   ]
  },
  {
   "cell_type": "code",
   "execution_count": 6,
   "id": "84f6377e-6bfd-4c0f-b7e2-aa1aa9d8ba6e",
   "metadata": {},
   "outputs": [
    {
     "data": {
      "text/plain": [
       "a    0.25\n",
       "b    0.50\n",
       "c    0.56\n",
       "d    0.75\n",
       "e    1.00\n",
       "dtype: float64"
      ]
     },
     "execution_count": 6,
     "metadata": {},
     "output_type": "execute_result"
    }
   ],
   "source": [
    "data['e'] = 1\n",
    "data"
   ]
  },
  {
   "cell_type": "code",
   "execution_count": 7,
   "id": "8cd0adc8-3e73-4f69-92f7-c2496b9f68d2",
   "metadata": {},
   "outputs": [
    {
     "data": {
      "text/plain": [
       "a    0.25\n",
       "b    0.50\n",
       "c    0.56\n",
       "dtype: float64"
      ]
     },
     "execution_count": 7,
     "metadata": {},
     "output_type": "execute_result"
    }
   ],
   "source": [
    "#slicing by explicit index\n",
    "data['a':'c']"
   ]
  },
  {
   "cell_type": "code",
   "execution_count": 8,
   "id": "1a6987bd-df71-42ea-91ee-622b22258f06",
   "metadata": {},
   "outputs": [
    {
     "data": {
      "text/plain": [
       "a    0.25\n",
       "b    0.50\n",
       "dtype: float64"
      ]
     },
     "execution_count": 8,
     "metadata": {},
     "output_type": "execute_result"
    }
   ],
   "source": [
    "#slicing by implicit integer index\n",
    "data[0:2]"
   ]
  },
  {
   "cell_type": "code",
   "execution_count": 9,
   "id": "6da74106-0d87-4e69-83e0-906354526211",
   "metadata": {},
   "outputs": [
    {
     "data": {
      "text/plain": [
       "b    0.50\n",
       "c    0.56\n",
       "d    0.75\n",
       "dtype: float64"
      ]
     },
     "execution_count": 9,
     "metadata": {},
     "output_type": "execute_result"
    }
   ],
   "source": [
    "#masking\n",
    "data[(data > 0.3) & (data < 0.8)]"
   ]
  },
  {
   "cell_type": "code",
   "execution_count": 10,
   "id": "23523ea3-4bb7-4e5a-8048-46211ceb236a",
   "metadata": {},
   "outputs": [
    {
     "data": {
      "text/plain": [
       "a    0.25\n",
       "e    1.00\n",
       "dtype: float64"
      ]
     },
     "execution_count": 10,
     "metadata": {},
     "output_type": "execute_result"
    }
   ],
   "source": [
    "#fancy indexing\n",
    "data[['a', 'e']]"
   ]
  },
  {
   "cell_type": "code",
   "execution_count": 14,
   "id": "a27bade8-6bff-43ba-a9f9-15d5e5fdc325",
   "metadata": {},
   "outputs": [
    {
     "data": {
      "text/html": [
       "<div>\n",
       "<style scoped>\n",
       "    .dataframe tbody tr th:only-of-type {\n",
       "        vertical-align: middle;\n",
       "    }\n",
       "\n",
       "    .dataframe tbody tr th {\n",
       "        vertical-align: top;\n",
       "    }\n",
       "\n",
       "    .dataframe thead th {\n",
       "        text-align: right;\n",
       "    }\n",
       "</style>\n",
       "<table border=\"1\" class=\"dataframe\">\n",
       "  <thead>\n",
       "    <tr style=\"text-align: right;\">\n",
       "      <th></th>\n",
       "      <th>area</th>\n",
       "      <th>pop</th>\n",
       "    </tr>\n",
       "  </thead>\n",
       "  <tbody>\n",
       "    <tr>\n",
       "      <th>Embakassi</th>\n",
       "      <td>48903</td>\n",
       "      <td>365746</td>\n",
       "    </tr>\n",
       "    <tr>\n",
       "      <th>Donholm</th>\n",
       "      <td>12345</td>\n",
       "      <td>45689</td>\n",
       "    </tr>\n",
       "    <tr>\n",
       "      <th>Rongai</th>\n",
       "      <td>54672</td>\n",
       "      <td>234789</td>\n",
       "    </tr>\n",
       "    <tr>\n",
       "      <th>Imaara Daima</th>\n",
       "      <td>2345</td>\n",
       "      <td>56789</td>\n",
       "    </tr>\n",
       "    <tr>\n",
       "      <th>Ruiru</th>\n",
       "      <td>67589</td>\n",
       "      <td>874563</td>\n",
       "    </tr>\n",
       "  </tbody>\n",
       "</table>\n",
       "</div>"
      ],
      "text/plain": [
       "               area     pop\n",
       "Embakassi     48903  365746\n",
       "Donholm       12345   45689\n",
       "Rongai        54672  234789\n",
       "Imaara Daima   2345   56789\n",
       "Ruiru         67589  874563"
      ]
     },
     "execution_count": 14,
     "metadata": {},
     "output_type": "execute_result"
    }
   ],
   "source": [
    "pop = pd.Series({'Embakassi': 365746,\n",
    "                   'Donholm': 45689,\n",
    "                   'Rongai': 234789,\n",
    "                   'Imaara Daima': 56789,\n",
    "                   'Ruiru': 874563})\n",
    "area = pd.Series({'Embakassi': 48903, 'Donholm': 12345, 'Rongai': 54672, 'Imaara Daima': 2345,\n",
    "             'Ruiru': 67589})\n",
    "data = pd.DataFrame({'area': area, 'pop': pop})\n",
    "data"
   ]
  },
  {
   "cell_type": "code",
   "execution_count": 15,
   "id": "87506d98-1756-4d4d-a798-c762344e34d0",
   "metadata": {},
   "outputs": [
    {
     "data": {
      "text/plain": [
       "Embakassi       48903\n",
       "Donholm         12345\n",
       "Rongai          54672\n",
       "Imaara Daima     2345\n",
       "Ruiru           67589\n",
       "Name: area, dtype: int64"
      ]
     },
     "execution_count": 15,
     "metadata": {},
     "output_type": "execute_result"
    }
   ],
   "source": [
    "#dictionary style indexing\n",
    "data['area']"
   ]
  },
  {
   "cell_type": "code",
   "execution_count": 16,
   "id": "71a728e3-8d72-42b4-8472-75b1bb2fa1ed",
   "metadata": {},
   "outputs": [
    {
     "data": {
      "text/plain": [
       "Embakassi       48903\n",
       "Donholm         12345\n",
       "Rongai          54672\n",
       "Imaara Daima     2345\n",
       "Ruiru           67589\n",
       "Name: area, dtype: int64"
      ]
     },
     "execution_count": 16,
     "metadata": {},
     "output_type": "execute_result"
    }
   ],
   "source": [
    "#attribute-style access with string column names\n",
    "data.area"
   ]
  },
  {
   "cell_type": "code",
   "execution_count": 18,
   "id": "ae85e990-4155-4edf-9a64-74d055d46a54",
   "metadata": {},
   "outputs": [
    {
     "data": {
      "text/html": [
       "<div>\n",
       "<style scoped>\n",
       "    .dataframe tbody tr th:only-of-type {\n",
       "        vertical-align: middle;\n",
       "    }\n",
       "\n",
       "    .dataframe tbody tr th {\n",
       "        vertical-align: top;\n",
       "    }\n",
       "\n",
       "    .dataframe thead th {\n",
       "        text-align: right;\n",
       "    }\n",
       "</style>\n",
       "<table border=\"1\" class=\"dataframe\">\n",
       "  <thead>\n",
       "    <tr style=\"text-align: right;\">\n",
       "      <th></th>\n",
       "      <th>area</th>\n",
       "      <th>pop</th>\n",
       "      <th>density</th>\n",
       "    </tr>\n",
       "  </thead>\n",
       "  <tbody>\n",
       "    <tr>\n",
       "      <th>Embakassi</th>\n",
       "      <td>48903</td>\n",
       "      <td>365746</td>\n",
       "      <td>7.479009</td>\n",
       "    </tr>\n",
       "    <tr>\n",
       "      <th>Donholm</th>\n",
       "      <td>12345</td>\n",
       "      <td>45689</td>\n",
       "      <td>3.701013</td>\n",
       "    </tr>\n",
       "    <tr>\n",
       "      <th>Rongai</th>\n",
       "      <td>54672</td>\n",
       "      <td>234789</td>\n",
       "      <td>4.294502</td>\n",
       "    </tr>\n",
       "    <tr>\n",
       "      <th>Imaara Daima</th>\n",
       "      <td>2345</td>\n",
       "      <td>56789</td>\n",
       "      <td>24.217058</td>\n",
       "    </tr>\n",
       "    <tr>\n",
       "      <th>Ruiru</th>\n",
       "      <td>67589</td>\n",
       "      <td>874563</td>\n",
       "      <td>12.939428</td>\n",
       "    </tr>\n",
       "  </tbody>\n",
       "</table>\n",
       "</div>"
      ],
      "text/plain": [
       "               area     pop    density\n",
       "Embakassi     48903  365746   7.479009\n",
       "Donholm       12345   45689   3.701013\n",
       "Rongai        54672  234789   4.294502\n",
       "Imaara Daima   2345   56789  24.217058\n",
       "Ruiru         67589  874563  12.939428"
      ]
     },
     "execution_count": 18,
     "metadata": {},
     "output_type": "execute_result"
    }
   ],
   "source": [
    "#modifying the object (adding new column)\n",
    "data['density'] = data['pop'] / data['area']\n",
    "data"
   ]
  },
  {
   "cell_type": "code",
   "execution_count": 19,
   "id": "3337fc13-dd9c-4b17-aa3c-1c8bb67aea76",
   "metadata": {},
   "outputs": [
    {
     "data": {
      "text/plain": [
       "array([[4.89030000e+04, 3.65746000e+05, 7.47900947e+00],\n",
       "       [1.23450000e+04, 4.56890000e+04, 3.70101256e+00],\n",
       "       [5.46720000e+04, 2.34789000e+05, 4.29450176e+00],\n",
       "       [2.34500000e+03, 5.67890000e+04, 2.42170576e+01],\n",
       "       [6.75890000e+04, 8.74563000e+05, 1.29394280e+01]])"
      ]
     },
     "execution_count": 19,
     "metadata": {},
     "output_type": "execute_result"
    }
   ],
   "source": [
    "#DataFrame as 2D array\n",
    "data.values"
   ]
  },
  {
   "cell_type": "code",
   "execution_count": 20,
   "id": "f7735734-f3cb-416f-a699-803699be4091",
   "metadata": {},
   "outputs": [
    {
     "data": {
      "text/html": [
       "<div>\n",
       "<style scoped>\n",
       "    .dataframe tbody tr th:only-of-type {\n",
       "        vertical-align: middle;\n",
       "    }\n",
       "\n",
       "    .dataframe tbody tr th {\n",
       "        vertical-align: top;\n",
       "    }\n",
       "\n",
       "    .dataframe thead th {\n",
       "        text-align: right;\n",
       "    }\n",
       "</style>\n",
       "<table border=\"1\" class=\"dataframe\">\n",
       "  <thead>\n",
       "    <tr style=\"text-align: right;\">\n",
       "      <th></th>\n",
       "      <th>Embakassi</th>\n",
       "      <th>Donholm</th>\n",
       "      <th>Rongai</th>\n",
       "      <th>Imaara Daima</th>\n",
       "      <th>Ruiru</th>\n",
       "    </tr>\n",
       "  </thead>\n",
       "  <tbody>\n",
       "    <tr>\n",
       "      <th>area</th>\n",
       "      <td>48903.000000</td>\n",
       "      <td>12345.000000</td>\n",
       "      <td>54672.000000</td>\n",
       "      <td>2345.000000</td>\n",
       "      <td>67589.000000</td>\n",
       "    </tr>\n",
       "    <tr>\n",
       "      <th>pop</th>\n",
       "      <td>365746.000000</td>\n",
       "      <td>45689.000000</td>\n",
       "      <td>234789.000000</td>\n",
       "      <td>56789.000000</td>\n",
       "      <td>874563.000000</td>\n",
       "    </tr>\n",
       "    <tr>\n",
       "      <th>density</th>\n",
       "      <td>7.479009</td>\n",
       "      <td>3.701013</td>\n",
       "      <td>4.294502</td>\n",
       "      <td>24.217058</td>\n",
       "      <td>12.939428</td>\n",
       "    </tr>\n",
       "  </tbody>\n",
       "</table>\n",
       "</div>"
      ],
      "text/plain": [
       "             Embakassi       Donholm         Rongai  Imaara Daima  \\\n",
       "area      48903.000000  12345.000000   54672.000000   2345.000000   \n",
       "pop      365746.000000  45689.000000  234789.000000  56789.000000   \n",
       "density       7.479009      3.701013       4.294502     24.217058   \n",
       "\n",
       "                 Ruiru  \n",
       "area      67589.000000  \n",
       "pop      874563.000000  \n",
       "density      12.939428  "
      ]
     },
     "execution_count": 20,
     "metadata": {},
     "output_type": "execute_result"
    }
   ],
   "source": [
    "#Transposing (swap DataFrame rows and columns)\n",
    "data.T"
   ]
  },
  {
   "cell_type": "code",
   "execution_count": 21,
   "id": "576e23fb-f8bc-4283-a06d-7cc0e5dfef64",
   "metadata": {},
   "outputs": [
    {
     "data": {
      "text/html": [
       "<div>\n",
       "<style scoped>\n",
       "    .dataframe tbody tr th:only-of-type {\n",
       "        vertical-align: middle;\n",
       "    }\n",
       "\n",
       "    .dataframe tbody tr th {\n",
       "        vertical-align: top;\n",
       "    }\n",
       "\n",
       "    .dataframe thead th {\n",
       "        text-align: right;\n",
       "    }\n",
       "</style>\n",
       "<table border=\"1\" class=\"dataframe\">\n",
       "  <thead>\n",
       "    <tr style=\"text-align: right;\">\n",
       "      <th></th>\n",
       "      <th>area</th>\n",
       "      <th>pop</th>\n",
       "      <th>density</th>\n",
       "    </tr>\n",
       "  </thead>\n",
       "  <tbody>\n",
       "    <tr>\n",
       "      <th>Embakassi</th>\n",
       "      <td>48903</td>\n",
       "      <td>365746</td>\n",
       "      <td>7.479009</td>\n",
       "    </tr>\n",
       "    <tr>\n",
       "      <th>Rongai</th>\n",
       "      <td>54672</td>\n",
       "      <td>234789</td>\n",
       "      <td>4.294502</td>\n",
       "    </tr>\n",
       "  </tbody>\n",
       "</table>\n",
       "</div>"
      ],
      "text/plain": [
       "            area     pop   density\n",
       "Embakassi  48903  365746  7.479009\n",
       "Rongai     54672  234789  4.294502"
      ]
     },
     "execution_count": 21,
     "metadata": {},
     "output_type": "execute_result"
    }
   ],
   "source": [
    "data.iloc[:3 :2]"
   ]
  },
  {
   "cell_type": "code",
   "execution_count": 22,
   "id": "e4def909-3a46-484c-83cf-02fadda416b0",
   "metadata": {},
   "outputs": [
    {
     "data": {
      "text/html": [
       "<div>\n",
       "<style scoped>\n",
       "    .dataframe tbody tr th:only-of-type {\n",
       "        vertical-align: middle;\n",
       "    }\n",
       "\n",
       "    .dataframe tbody tr th {\n",
       "        vertical-align: top;\n",
       "    }\n",
       "\n",
       "    .dataframe thead th {\n",
       "        text-align: right;\n",
       "    }\n",
       "</style>\n",
       "<table border=\"1\" class=\"dataframe\">\n",
       "  <thead>\n",
       "    <tr style=\"text-align: right;\">\n",
       "      <th></th>\n",
       "      <th>Embakassi</th>\n",
       "      <th>Donholm</th>\n",
       "      <th>Rongai</th>\n",
       "      <th>Imaara Daima</th>\n",
       "      <th>Ruiru</th>\n",
       "    </tr>\n",
       "  </thead>\n",
       "  <tbody>\n",
       "    <tr>\n",
       "      <th>area</th>\n",
       "      <td>48903.000000</td>\n",
       "      <td>12345.000000</td>\n",
       "      <td>54672.000000</td>\n",
       "      <td>2345.000000</td>\n",
       "      <td>67589.000000</td>\n",
       "    </tr>\n",
       "    <tr>\n",
       "      <th>pop</th>\n",
       "      <td>365746.000000</td>\n",
       "      <td>45689.000000</td>\n",
       "      <td>234789.000000</td>\n",
       "      <td>56789.000000</td>\n",
       "      <td>874563.000000</td>\n",
       "    </tr>\n",
       "    <tr>\n",
       "      <th>density</th>\n",
       "      <td>7.479009</td>\n",
       "      <td>3.701013</td>\n",
       "      <td>4.294502</td>\n",
       "      <td>24.217058</td>\n",
       "      <td>12.939428</td>\n",
       "    </tr>\n",
       "  </tbody>\n",
       "</table>\n",
       "</div>"
      ],
      "text/plain": [
       "             Embakassi       Donholm         Rongai  Imaara Daima  \\\n",
       "area      48903.000000  12345.000000   54672.000000   2345.000000   \n",
       "pop      365746.000000  45689.000000  234789.000000  56789.000000   \n",
       "density       7.479009      3.701013       4.294502     24.217058   \n",
       "\n",
       "                 Ruiru  \n",
       "area      67589.000000  \n",
       "pop      874563.000000  \n",
       "density      12.939428  "
      ]
     },
     "execution_count": 22,
     "metadata": {},
     "output_type": "execute_result"
    }
   ],
   "source": [
    "data.T"
   ]
  },
  {
   "cell_type": "code",
   "execution_count": 23,
   "id": "64c39cb1-6647-43dc-9589-e89622c78685",
   "metadata": {},
   "outputs": [
    {
     "data": {
      "text/html": [
       "<div>\n",
       "<style scoped>\n",
       "    .dataframe tbody tr th:only-of-type {\n",
       "        vertical-align: middle;\n",
       "    }\n",
       "\n",
       "    .dataframe tbody tr th {\n",
       "        vertical-align: top;\n",
       "    }\n",
       "\n",
       "    .dataframe thead th {\n",
       "        text-align: right;\n",
       "    }\n",
       "</style>\n",
       "<table border=\"1\" class=\"dataframe\">\n",
       "  <thead>\n",
       "    <tr style=\"text-align: right;\">\n",
       "      <th></th>\n",
       "      <th>Embakassi</th>\n",
       "      <th>Donholm</th>\n",
       "      <th>Rongai</th>\n",
       "      <th>Imaara Daima</th>\n",
       "      <th>Ruiru</th>\n",
       "    </tr>\n",
       "  </thead>\n",
       "  <tbody>\n",
       "    <tr>\n",
       "      <th>area</th>\n",
       "      <td>48903.000000</td>\n",
       "      <td>12345.000000</td>\n",
       "      <td>54672.000000</td>\n",
       "      <td>2345.000000</td>\n",
       "      <td>67589.000000</td>\n",
       "    </tr>\n",
       "    <tr>\n",
       "      <th>pop</th>\n",
       "      <td>365746.000000</td>\n",
       "      <td>45689.000000</td>\n",
       "      <td>234789.000000</td>\n",
       "      <td>56789.000000</td>\n",
       "      <td>874563.000000</td>\n",
       "    </tr>\n",
       "    <tr>\n",
       "      <th>density</th>\n",
       "      <td>7.479009</td>\n",
       "      <td>3.701013</td>\n",
       "      <td>4.294502</td>\n",
       "      <td>24.217058</td>\n",
       "      <td>12.939428</td>\n",
       "    </tr>\n",
       "  </tbody>\n",
       "</table>\n",
       "</div>"
      ],
      "text/plain": [
       "             Embakassi       Donholm         Rongai  Imaara Daima  \\\n",
       "area      48903.000000  12345.000000   54672.000000   2345.000000   \n",
       "pop      365746.000000  45689.000000  234789.000000  56789.000000   \n",
       "density       7.479009      3.701013       4.294502     24.217058   \n",
       "\n",
       "                 Ruiru  \n",
       "area      67589.000000  \n",
       "pop      874563.000000  \n",
       "density      12.939428  "
      ]
     },
     "execution_count": 23,
     "metadata": {},
     "output_type": "execute_result"
    }
   ],
   "source": [
    "data.T"
   ]
  },
  {
   "cell_type": "code",
   "execution_count": 24,
   "id": "535576df-fb38-4ab0-8b64-711adc535fcb",
   "metadata": {},
   "outputs": [
    {
     "data": {
      "text/html": [
       "<div>\n",
       "<style scoped>\n",
       "    .dataframe tbody tr th:only-of-type {\n",
       "        vertical-align: middle;\n",
       "    }\n",
       "\n",
       "    .dataframe tbody tr th {\n",
       "        vertical-align: top;\n",
       "    }\n",
       "\n",
       "    .dataframe thead th {\n",
       "        text-align: right;\n",
       "    }\n",
       "</style>\n",
       "<table border=\"1\" class=\"dataframe\">\n",
       "  <thead>\n",
       "    <tr style=\"text-align: right;\">\n",
       "      <th></th>\n",
       "      <th>area</th>\n",
       "      <th>pop</th>\n",
       "    </tr>\n",
       "  </thead>\n",
       "  <tbody>\n",
       "    <tr>\n",
       "      <th>Embakassi</th>\n",
       "      <td>48903</td>\n",
       "      <td>365746</td>\n",
       "    </tr>\n",
       "    <tr>\n",
       "      <th>Donholm</th>\n",
       "      <td>12345</td>\n",
       "      <td>45689</td>\n",
       "    </tr>\n",
       "  </tbody>\n",
       "</table>\n",
       "</div>"
      ],
      "text/plain": [
       "            area     pop\n",
       "Embakassi  48903  365746\n",
       "Donholm    12345   45689"
      ]
     },
     "execution_count": 24,
     "metadata": {},
     "output_type": "execute_result"
    }
   ],
   "source": [
    "data.loc[:'Donholm', : 'pop']"
   ]
  },
  {
   "cell_type": "code",
   "execution_count": null,
   "id": "02914878-77f1-47cf-84e1-f4db8e0e5fe0",
   "metadata": {},
   "outputs": [],
   "source": []
  }
 ],
 "metadata": {
  "kernelspec": {
   "display_name": "Python 3 (ipykernel)",
   "language": "python",
   "name": "python3"
  },
  "language_info": {
   "codemirror_mode": {
    "name": "ipython",
    "version": 3
   },
   "file_extension": ".py",
   "mimetype": "text/x-python",
   "name": "python",
   "nbconvert_exporter": "python",
   "pygments_lexer": "ipython3",
   "version": "3.12.1"
  }
 },
 "nbformat": 4,
 "nbformat_minor": 5
}

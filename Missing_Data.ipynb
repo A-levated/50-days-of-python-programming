{
 "cells": [
  {
   "cell_type": "code",
   "execution_count": 1,
   "id": "f5ec32e9-d360-48ac-9e0f-ea31deaf4268",
   "metadata": {},
   "outputs": [],
   "source": [
    "import numpy as np\n",
    "import pandas as pd"
   ]
  },
  {
   "cell_type": "code",
   "execution_count": 2,
   "id": "fbe97cc3-e330-46fe-8a0b-5560aaf4ffce",
   "metadata": {},
   "outputs": [
    {
     "data": {
      "text/plain": [
       "a    1.0\n",
       "b    NaN\n",
       "c    2.0\n",
       "d    NaN\n",
       "e    3.0\n",
       "dtype: float64"
      ]
     },
     "execution_count": 2,
     "metadata": {},
     "output_type": "execute_result"
    }
   ],
   "source": [
    "#filling null values\n",
    "data = pd.Series([1, np.nan, 2, None, 3], index=list('abcde'))\n",
    "data"
   ]
  },
  {
   "cell_type": "code",
   "execution_count": 3,
   "id": "62ffa83f-eafe-4392-85c2-136f1f9ff92e",
   "metadata": {},
   "outputs": [
    {
     "data": {
      "text/plain": [
       "a    1.0\n",
       "b    0.0\n",
       "c    2.0\n",
       "d    0.0\n",
       "e    3.0\n",
       "dtype: float64"
      ]
     },
     "execution_count": 3,
     "metadata": {},
     "output_type": "execute_result"
    }
   ],
   "source": [
    "data.fillna(0)"
   ]
  },
  {
   "cell_type": "code",
   "execution_count": 4,
   "id": "69f5d92a-2f77-462e-ba81-57cd06b27c3c",
   "metadata": {},
   "outputs": [
    {
     "name": "stderr",
     "output_type": "stream",
     "text": [
      "/tmp/ipykernel_49207/2528399106.py:2: FutureWarning: Series.fillna with 'method' is deprecated and will raise in a future version. Use obj.ffill() or obj.bfill() instead.\n",
      "  data.fillna(method='ffill')\n"
     ]
    },
    {
     "data": {
      "text/plain": [
       "a    1.0\n",
       "b    1.0\n",
       "c    2.0\n",
       "d    2.0\n",
       "e    3.0\n",
       "dtype: float64"
      ]
     },
     "execution_count": 4,
     "metadata": {},
     "output_type": "execute_result"
    }
   ],
   "source": [
    "#forward-fill, propagates the previous value forward\n",
    "data.fillna(method='ffill')"
   ]
  },
  {
   "cell_type": "code",
   "execution_count": 5,
   "id": "77b64f8c-8c18-4a01-aedc-74f1c081dcae",
   "metadata": {},
   "outputs": [
    {
     "ename": "NameError",
     "evalue": "name 'obj' is not defined",
     "output_type": "error",
     "traceback": [
      "\u001b[0;31m---------------------------------------------------------------------------\u001b[0m",
      "\u001b[0;31mNameError\u001b[0m                                 Traceback (most recent call last)",
      "Cell \u001b[0;32mIn[5], line 1\u001b[0m\n\u001b[0;32m----> 1\u001b[0m \u001b[43mobj\u001b[49m\u001b[38;5;241m.\u001b[39mbfill(data)\n",
      "\u001b[0;31mNameError\u001b[0m: name 'obj' is not defined"
     ]
    }
   ],
   "source": [
    "obj.bfill(data)"
   ]
  },
  {
   "cell_type": "code",
   "execution_count": 7,
   "id": "4b3ff994-1d3a-43ab-97c6-e0a7e418d85a",
   "metadata": {},
   "outputs": [
    {
     "name": "stderr",
     "output_type": "stream",
     "text": [
      "/tmp/ipykernel_49207/1397359497.py:1: FutureWarning: Series.fillna with 'method' is deprecated and will raise in a future version. Use obj.ffill() or obj.bfill() instead.\n",
      "  data.fillna(method='bfill')\n"
     ]
    },
    {
     "data": {
      "text/plain": [
       "a    1.0\n",
       "b    2.0\n",
       "c    2.0\n",
       "d    3.0\n",
       "e    3.0\n",
       "dtype: float64"
      ]
     },
     "execution_count": 7,
     "metadata": {},
     "output_type": "execute_result"
    }
   ],
   "source": [
    "data.fillna(method='bfill')"
   ]
  },
  {
   "cell_type": "code",
   "execution_count": 11,
   "id": "eb6f8e5b-dcab-4973-9f00-7723de9efa69",
   "metadata": {},
   "outputs": [
    {
     "data": {
      "text/html": [
       "<div>\n",
       "<style scoped>\n",
       "    .dataframe tbody tr th:only-of-type {\n",
       "        vertical-align: middle;\n",
       "    }\n",
       "\n",
       "    .dataframe tbody tr th {\n",
       "        vertical-align: top;\n",
       "    }\n",
       "\n",
       "    .dataframe thead th {\n",
       "        text-align: right;\n",
       "    }\n",
       "</style>\n",
       "<table border=\"1\" class=\"dataframe\">\n",
       "  <thead>\n",
       "    <tr style=\"text-align: right;\">\n",
       "      <th></th>\n",
       "      <th></th>\n",
       "      <th>data1</th>\n",
       "      <th>data2</th>\n",
       "    </tr>\n",
       "  </thead>\n",
       "  <tbody>\n",
       "    <tr>\n",
       "      <th rowspan=\"2\" valign=\"top\">a</th>\n",
       "      <th>1</th>\n",
       "      <td>0.524082</td>\n",
       "      <td>0.794393</td>\n",
       "    </tr>\n",
       "    <tr>\n",
       "      <th>2</th>\n",
       "      <td>0.836454</td>\n",
       "      <td>0.158245</td>\n",
       "    </tr>\n",
       "    <tr>\n",
       "      <th rowspan=\"2\" valign=\"top\">b</th>\n",
       "      <th>1</th>\n",
       "      <td>0.797426</td>\n",
       "      <td>0.811679</td>\n",
       "    </tr>\n",
       "    <tr>\n",
       "      <th>2</th>\n",
       "      <td>0.820995</td>\n",
       "      <td>0.268589</td>\n",
       "    </tr>\n",
       "  </tbody>\n",
       "</table>\n",
       "</div>"
      ],
      "text/plain": [
       "        data1     data2\n",
       "a 1  0.524082  0.794393\n",
       "  2  0.836454  0.158245\n",
       "b 1  0.797426  0.811679\n",
       "  2  0.820995  0.268589"
      ]
     },
     "execution_count": 11,
     "metadata": {},
     "output_type": "execute_result"
    }
   ],
   "source": [
    "#methods of multinIndex Creation\n",
    "df = pd.DataFrame(np.random.rand(4, 2),\n",
    "                 index=[['a', 'a','b', 'b'], [1, 2, 1, 2]],\n",
    "                 columns=['data1', 'data2'])\n",
    "df"
   ]
  },
  {
   "cell_type": "code",
   "execution_count": 13,
   "id": "49d11b2f-dae9-49b5-ba65-a9406a009a36",
   "metadata": {},
   "outputs": [
    {
     "data": {
      "text/plain": [
       "California  2000    33871648\n",
       "            2010    37253956\n",
       "Texas       2000    20851820\n",
       "            2010    25145561\n",
       "New York    2000    18976457\n",
       "            2010    19378102\n",
       "dtype: int64"
      ]
     },
     "execution_count": 13,
     "metadata": {},
     "output_type": "execute_result"
    }
   ],
   "source": [
    "data = {('California', 2000): 33871648,\n",
    "('California', 2010): 37253956,\n",
    "('Texas', 2000): 20851820,\n",
    "('Texas', 2010): 25145561,\n",
    "('New York', 2000): 18976457,\n",
    "('New York', 2010): 19378102}\n",
    "pd.Series(data)"
   ]
  },
  {
   "cell_type": "code",
   "execution_count": 22,
   "id": "fb20f9d0-a4a7-4b56-a556-be944897f9be",
   "metadata": {},
   "outputs": [
    {
     "name": "stdout",
     "output_type": "stream",
     "text": [
      "   student        course\n",
      "0  Brevian           GIS\n",
      "1    Osewe  Comp Science\n",
      "2   Castin   Engineering\n",
      "3   Maloba          Bcom\n",
      "   student specialization\n",
      "0  Brevian            LLM\n",
      "1   Castin            CSS\n",
      "2    Osewe        Theatre\n",
      "3   Maloba  C.Engineering\n"
     ]
    }
   ],
   "source": [
    "#Merging and Joining\n",
    "df1 = pd.DataFrame({'student': ['Brevian', 'Osewe', 'Castin', 'Maloba'],\n",
    "                    'course': ['GIS', 'Comp Science', 'Engineering', 'Bcom']})\n",
    "df2 = pd.DataFrame({'student': ['Brevian', 'Castin', 'Osewe', 'Maloba'],\n",
    "                    'specialization': ['LLM', 'CSS', 'Theatre', 'C.Engineering']})\n",
    "print(df1); print(df2)"
   ]
  },
  {
   "cell_type": "code",
   "execution_count": 23,
   "id": "b97cd5ad-d182-4651-bb02-064d1fd184ee",
   "metadata": {},
   "outputs": [
    {
     "data": {
      "text/html": [
       "<div>\n",
       "<style scoped>\n",
       "    .dataframe tbody tr th:only-of-type {\n",
       "        vertical-align: middle;\n",
       "    }\n",
       "\n",
       "    .dataframe tbody tr th {\n",
       "        vertical-align: top;\n",
       "    }\n",
       "\n",
       "    .dataframe thead th {\n",
       "        text-align: right;\n",
       "    }\n",
       "</style>\n",
       "<table border=\"1\" class=\"dataframe\">\n",
       "  <thead>\n",
       "    <tr style=\"text-align: right;\">\n",
       "      <th></th>\n",
       "      <th>student</th>\n",
       "      <th>course</th>\n",
       "      <th>specialization</th>\n",
       "    </tr>\n",
       "  </thead>\n",
       "  <tbody>\n",
       "    <tr>\n",
       "      <th>0</th>\n",
       "      <td>Brevian</td>\n",
       "      <td>GIS</td>\n",
       "      <td>LLM</td>\n",
       "    </tr>\n",
       "    <tr>\n",
       "      <th>1</th>\n",
       "      <td>Osewe</td>\n",
       "      <td>Comp Science</td>\n",
       "      <td>Theatre</td>\n",
       "    </tr>\n",
       "    <tr>\n",
       "      <th>2</th>\n",
       "      <td>Castin</td>\n",
       "      <td>Engineering</td>\n",
       "      <td>CSS</td>\n",
       "    </tr>\n",
       "    <tr>\n",
       "      <th>3</th>\n",
       "      <td>Maloba</td>\n",
       "      <td>Bcom</td>\n",
       "      <td>C.Engineering</td>\n",
       "    </tr>\n",
       "  </tbody>\n",
       "</table>\n",
       "</div>"
      ],
      "text/plain": [
       "   student        course specialization\n",
       "0  Brevian           GIS            LLM\n",
       "1    Osewe  Comp Science        Theatre\n",
       "2   Castin   Engineering            CSS\n",
       "3   Maloba          Bcom  C.Engineering"
      ]
     },
     "execution_count": 23,
     "metadata": {},
     "output_type": "execute_result"
    }
   ],
   "source": [
    "df3 = pd.merge(df1, df2)\n",
    "df3"
   ]
  },
  {
   "cell_type": "code",
   "execution_count": 25,
   "id": "2040595f-9e42-4760-b823-1f0a8e08913c",
   "metadata": {},
   "outputs": [
    {
     "name": "stdout",
     "output_type": "stream",
     "text": [
      "         course course_id\n",
      "0           GIS      E032\n",
      "1  Comp Science      CS50\n",
      "2   Engineering      E023\n",
      "3          Bcom      B234\n",
      "   student        course specialization\n",
      "0  Brevian           GIS            LLM\n",
      "1    Osewe  Comp Science        Theatre\n",
      "2   Castin   Engineering            CSS\n",
      "3   Maloba          Bcom  C.Engineering\n",
      "   student        course specialization course_id\n",
      "0  Brevian           GIS            LLM      E032\n",
      "1    Osewe  Comp Science        Theatre      CS50\n",
      "2   Castin   Engineering            CSS      E023\n",
      "3   Maloba          Bcom  C.Engineering      B234\n"
     ]
    }
   ],
   "source": [
    "df4 = pd.DataFrame({'course': ['GIS', 'Comp Science', 'Engineering', 'Bcom'],\n",
    "                    'course_id': ['E032', 'CS50', 'E023', 'B234']})\n",
    "print(df4); print(df3); print(pd.merge(df3, df4))"
   ]
  },
  {
   "cell_type": "code",
   "execution_count": 27,
   "id": "1c990218-7969-427a-91e7-19637adbd114",
   "metadata": {},
   "outputs": [
    {
     "name": "stdout",
     "output_type": "stream",
     "text": [
      "   student        course\n",
      "0  Brevian           GIS\n",
      "1    Osewe  Comp Science\n",
      "2   Castin   Engineering\n",
      "3   Maloba          Bcom\n",
      "   student specialization\n",
      "0  Brevian            LLM\n",
      "1   Castin            CSS\n",
      "2    Osewe        Theatre\n",
      "3   Maloba  C.Engineering\n",
      "   student        course specialization\n",
      "0  Brevian           GIS            LLM\n",
      "1    Osewe  Comp Science        Theatre\n",
      "2   Castin   Engineering            CSS\n",
      "3   Maloba          Bcom  C.Engineering\n"
     ]
    }
   ],
   "source": [
    "print(df1); print(df2); print(pd.merge(df1, df2, on='student'))"
   ]
  },
  {
   "cell_type": "code",
   "execution_count": 28,
   "id": "c62fe1d8-74d2-4137-8926-d5e55a3f45ba",
   "metadata": {},
   "outputs": [
    {
     "name": "stdout",
     "output_type": "stream",
     "text": [
      "   student        course\n",
      "0  Brevian           GIS\n",
      "1    Osewe  Comp Science\n",
      "2   Castin   Engineering\n",
      "3   Maloba          Bcom\n",
      "   student specialization\n",
      "0  Brevian            LLM\n",
      "1   Castin            CSS\n",
      "2    Osewe        Theatre\n",
      "3   Maloba  C.Engineering\n",
      "   student        course     name grade\n",
      "0  Brevian           GIS  Brevian     B\n",
      "1    Osewe  Comp Science    Osewe     C\n",
      "2   Castin   Engineering   Castin     B\n",
      "3   Maloba          Bcom   Maloba     A\n"
     ]
    }
   ],
   "source": [
    "df3 = pd.DataFrame({'name': ['Brevian', 'Osewe', 'Castin', 'Maloba'],\n",
    "                    'grade': ['B', 'C', 'B', 'A']})\n",
    "print(df1); print(df2);\n",
    "print(pd.merge(df1, df3, left_on='student', right_on='name'))"
   ]
  },
  {
   "cell_type": "code",
   "execution_count": 29,
   "id": "2032aaad-40e6-426b-9629-97559aac7110",
   "metadata": {},
   "outputs": [
    {
     "data": {
      "text/html": [
       "<div>\n",
       "<style scoped>\n",
       "    .dataframe tbody tr th:only-of-type {\n",
       "        vertical-align: middle;\n",
       "    }\n",
       "\n",
       "    .dataframe tbody tr th {\n",
       "        vertical-align: top;\n",
       "    }\n",
       "\n",
       "    .dataframe thead th {\n",
       "        text-align: right;\n",
       "    }\n",
       "</style>\n",
       "<table border=\"1\" class=\"dataframe\">\n",
       "  <thead>\n",
       "    <tr style=\"text-align: right;\">\n",
       "      <th></th>\n",
       "      <th>student</th>\n",
       "      <th>course</th>\n",
       "      <th>grade</th>\n",
       "    </tr>\n",
       "  </thead>\n",
       "  <tbody>\n",
       "    <tr>\n",
       "      <th>0</th>\n",
       "      <td>Brevian</td>\n",
       "      <td>GIS</td>\n",
       "      <td>B</td>\n",
       "    </tr>\n",
       "    <tr>\n",
       "      <th>1</th>\n",
       "      <td>Osewe</td>\n",
       "      <td>Comp Science</td>\n",
       "      <td>C</td>\n",
       "    </tr>\n",
       "    <tr>\n",
       "      <th>2</th>\n",
       "      <td>Castin</td>\n",
       "      <td>Engineering</td>\n",
       "      <td>B</td>\n",
       "    </tr>\n",
       "    <tr>\n",
       "      <th>3</th>\n",
       "      <td>Maloba</td>\n",
       "      <td>Bcom</td>\n",
       "      <td>A</td>\n",
       "    </tr>\n",
       "  </tbody>\n",
       "</table>\n",
       "</div>"
      ],
      "text/plain": [
       "   student        course grade\n",
       "0  Brevian           GIS     B\n",
       "1    Osewe  Comp Science     C\n",
       "2   Castin   Engineering     B\n",
       "3   Maloba          Bcom     A"
      ]
     },
     "execution_count": 29,
     "metadata": {},
     "output_type": "execute_result"
    }
   ],
   "source": [
    "#dropping the redudand column\n",
    "pd.merge(df1, df3, left_on='student', right_on='name').drop('name', axis=1)"
   ]
  },
  {
   "cell_type": "code",
   "execution_count": null,
   "id": "add3f3af-78b6-4a22-a47a-35e3af3ecf92",
   "metadata": {},
   "outputs": [],
   "source": []
  }
 ],
 "metadata": {
  "kernelspec": {
   "display_name": "Python 3 (ipykernel)",
   "language": "python",
   "name": "python3"
  },
  "language_info": {
   "codemirror_mode": {
    "name": "ipython",
    "version": 3
   },
   "file_extension": ".py",
   "mimetype": "text/x-python",
   "name": "python",
   "nbconvert_exporter": "python",
   "pygments_lexer": "ipython3",
   "version": "3.12.1"
  }
 },
 "nbformat": 4,
 "nbformat_minor": 5
}

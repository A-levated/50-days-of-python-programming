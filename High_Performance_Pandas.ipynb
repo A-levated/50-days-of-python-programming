{
 "cells": [
  {
   "cell_type": "code",
   "execution_count": 2,
   "id": "45c523d5-99a2-4443-8eb1-83a4299bd586",
   "metadata": {},
   "outputs": [
    {
     "name": "stdout",
     "output_type": "stream",
     "text": [
      "2.08 ms ± 34.5 µs per loop (mean ± std. dev. of 7 runs, 100 loops each)\n"
     ]
    }
   ],
   "source": [
    "#Compound Expressions(query() and eval())\n",
    "import numpy as np\n",
    "import pandas as pd\n",
    "rng = np.random.RandomState(42)\n",
    "x = rng.rand(int(1E6))\n",
    "y = rng.rand(int(1E6))\n",
    "%timeit x + y"
   ]
  },
  {
   "cell_type": "code",
   "execution_count": 5,
   "id": "828584e2-eb17-4511-bc6f-7d7293903535",
   "metadata": {},
   "outputs": [
    {
     "data": {
      "text/plain": [
       "True"
      ]
     },
     "execution_count": 5,
     "metadata": {},
     "output_type": "execute_result"
    }
   ],
   "source": [
    "import numexpr\n",
    "mask = (x > 0.5) & (y < 0.5)\n",
    "mask_numexpr = numexpr.evaluate('(x > 0.5) & (y < 0.5)')\n",
    "np.allclose(mask, mask_numexpr)\n",
    "True"
   ]
  },
  {
   "cell_type": "code",
   "execution_count": 6,
   "id": "64d83476-6154-4ce2-9b4f-9877ef04259d",
   "metadata": {},
   "outputs": [
    {
     "name": "stdout",
     "output_type": "stream",
     "text": [
      "128 ms ± 42.2 ms per loop (mean ± std. dev. of 7 runs, 1 loop each)\n"
     ]
    }
   ],
   "source": [
    "#eval function in pandas\n",
    "nrows, ncols = 100000, 100\n",
    "rng = np.random.RandomState(42)\n",
    "df1, df2, df3, df4 = (pd.DataFrame(rng.rand(nrows, ncols))\n",
    "                     for i in range(4))\n",
    "%timeit df1 + df2 + df3 + df4"
   ]
  },
  {
   "cell_type": "code",
   "execution_count": null,
   "id": "5dcf23d9-1431-4897-9377-38e1de4f5887",
   "metadata": {},
   "outputs": [],
   "source": []
  }
 ],
 "metadata": {
  "kernelspec": {
   "display_name": "Python 3 (ipykernel)",
   "language": "python",
   "name": "python3"
  },
  "language_info": {
   "codemirror_mode": {
    "name": "ipython",
    "version": 3
   },
   "file_extension": ".py",
   "mimetype": "text/x-python",
   "name": "python",
   "nbconvert_exporter": "python",
   "pygments_lexer": "ipython3",
   "version": "3.12.1"
  }
 },
 "nbformat": 4,
 "nbformat_minor": 5
}
